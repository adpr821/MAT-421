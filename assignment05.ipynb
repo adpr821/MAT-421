{
  "nbformat": 4,
  "nbformat_minor": 0,
  "metadata": {
    "colab": {
      "provenance": [],
      "authorship_tag": "ABX9TyNLkDY5i2uUACpsqFGEp2cg",
      "include_colab_link": true
    },
    "kernelspec": {
      "name": "python3",
      "display_name": "Python 3"
    },
    "language_info": {
      "name": "python"
    }
  },
  "cells": [
    {
      "cell_type": "markdown",
      "metadata": {
        "id": "view-in-github",
        "colab_type": "text"
      },
      "source": [
        "<a href=\"https://colab.research.google.com/github/adpr821/MAT-421/blob/main/assignment05.ipynb\" target=\"_parent\"><img src=\"https://colab.research.google.com/assets/colab-badge.svg\" alt=\"Open In Colab\"/></a>"
      ]
    },
    {
      "cell_type": "markdown",
      "source": [
        "# MAT 421 | Assignment 5 | 1.2, 1.2, 1.3, 1.4\n",
        "- By: Prashil Adhara\n",
        "- Instructor: Haiyan Wang\n",
        "- Spring 2024, Session C"
      ],
      "metadata": {
        "id": "GLHbXyRHAHjp"
      }
    },
    {
      "cell_type": "markdown",
      "source": [
        "# Linear Algebra\n",
        "\n",
        "## Sets\n",
        "- A set is a collection of objects, for example, a set of car manufacturers would be {Nissan, Toyota, Tesla, Porche, Aston Martin}. And if a set were to be empty, it could be denoted by Φ (capital phi).\n",
        "- Building upon the concept of sets, we have set operations such as the union and intersection. A union contains all elements of the sets the operation is applied to and an intersection only contains those which are mutually inclusive.\n",
        "- These operations can be combined to have different outcomes. For example if we have two non-empty sets P and Q and we want to find out all the elements which belong to either of these and are mutually exclusive to both, we can do their union, minus their intersection.\n",
        "- As such, a set of natural numbers would be N = {1,2,3,4...}. If we want to define sets more formally, we have set notation for example: `S = {x : x belongs to N, x % 2 = 0}` is a set of even naturals.\n",
        "\n",
        "## Vectors\n",
        "- A vector is essentially a tuple. R^2 is a set of tuples where each tuple is a coordinate in the 2-dimentional cartesian plane. Each tuple would be as (x, y). R^3 would be to the third dimentional coordinates and so on. These vectors have a magnitude and direction associated with them in linear algebra, and this is useful for fields such as mechanical physics.\n",
        "- These vectors can be added with each other as well as scaled with a scalar multiple. Further we have dot products, which gives a formula for the angle between two vectors (in regards to the direction associated with the vector discussed earlier) `a . b = |a| |b| cos θ`. Likewise, the cross product would be `a x b = |a| |b| sinθ`.\n",
        "\n",
        "## Matrices\n",
        "- A matrix is essentially a table of numbers. It could in different scenarios be considered as a collection of equally sized vectors, this arrangement lets us expand the use case of matrices.\n",
        "- If a matrix is defined as an m x n matrix, it just means that it has m rows and n columns. So a 0x0 matrix is an empty matrix, a 0xn matrix is just a column matrix and a mx0 matrix is a row matrix.\n",
        "- Matrices also have different operations associated with them. Equally sized matrices can be added (in some programming libraries, differently sized matrices can also be added, but it can produce unexpected outcomes). Matrices can be scaled using a multiple and two matrices can be multipled too. However, the multiplication between two matrices is only possible if, for example we have A and B, then the number of columns of A should be equal to the number of rows of B, then and only then we can have a matrix C where C = AB.\n",
        "\n",
        "In python we can represent matrices as a two dimentional array."
      ],
      "metadata": {
        "id": "-EPHqypKAb1r"
      }
    },
    {
      "cell_type": "code",
      "execution_count": 1,
      "metadata": {
        "colab": {
          "base_uri": "https://localhost:8080/"
        },
        "id": "H3qGplezABat",
        "outputId": "1f303349-c5d4-496d-d7c4-0dade582bf0e"
      },
      "outputs": [
        {
          "output_type": "stream",
          "name": "stdout",
          "text": [
            "[[ 9 12 15]\n",
            " [19 26 33]]\n"
          ]
        }
      ],
      "source": [
        "import numpy as np\n",
        "\n",
        "a = np.array([\n",
        "    [1,2],\n",
        "    [3,4]\n",
        "])\n",
        "\n",
        "b = np.array([\n",
        "    [1,2,3],\n",
        "    [4,5,6]\n",
        "])\n",
        "\n",
        "print(np.dot(a,b))"
      ]
    },
    {
      "cell_type": "markdown",
      "source": [
        "- To make the creation of matrices easier, we can use list comprehension in python to go over a range of values."
      ],
      "metadata": {
        "id": "hmbsXV_4Fe_w"
      }
    },
    {
      "cell_type": "code",
      "source": [
        "x = [[i for i in range(j-1,j+4,1)] for j in range(2,7)]\n",
        "x_vector = np.array(x)\n",
        "print(x_vector)"
      ],
      "metadata": {
        "colab": {
          "base_uri": "https://localhost:8080/"
        },
        "id": "GDkztReQFk2S",
        "outputId": "8b9ea194-32e5-4c94-fe27-cd97e32ca984"
      },
      "execution_count": 10,
      "outputs": [
        {
          "output_type": "stream",
          "name": "stdout",
          "text": [
            "[[1 2 3 4 5]\n",
            " [2 3 4 5 6]\n",
            " [3 4 5 6 7]\n",
            " [4 5 6 7 8]\n",
            " [5 6 7 8 9]]\n"
          ]
        }
      ]
    }
  ]
}
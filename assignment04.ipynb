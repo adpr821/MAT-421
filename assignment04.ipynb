{
  "nbformat": 4,
  "nbformat_minor": 0,
  "metadata": {
    "colab": {
      "provenance": [],
      "authorship_tag": "ABX9TyMDWVM0XCvokUJ2tZxF5u6F",
      "include_colab_link": true
    },
    "kernelspec": {
      "name": "python3",
      "display_name": "Python 3"
    },
    "language_info": {
      "name": "python"
    }
  },
  "cells": [
    {
      "cell_type": "markdown",
      "metadata": {
        "id": "view-in-github",
        "colab_type": "text"
      },
      "source": [
        "<a href=\"https://colab.research.google.com/github/adpr821/MAT-421/blob/main/assignment04.ipynb\" target=\"_parent\"><img src=\"https://colab.research.google.com/assets/colab-badge.svg\" alt=\"Open In Colab\"/></a>"
      ]
    },
    {
      "cell_type": "markdown",
      "source": [
        "# MAT 421 | Assignment 4 | 19.1, 19.2, 19.3, 19.4, 19.5\n",
        "\n",
        "- By: Prashil Adhara\n",
        "- Instructor: Haiyan Wang\n",
        "- Spring 2024, Session C\n",
        "\n",
        "In this assignment, we discuss in regards to finding roots to a function. As in, we shall discuss the different methods of estimating it, what toleration refers to and the best practices for implementing it in code."
      ],
      "metadata": {
        "id": "ArZxbNDCKzv3"
      }
    },
    {
      "cell_type": "markdown",
      "source": [
        "## Motivation\n",
        "- A root of a function refers to the elements of the subset belonging to the range of a function that when evaluated against the function result in the output being equal to 0.\n",
        "- Say you have an equation, f(x) = 9x + 3, this is a linear equation, as in the degree of the polynomial f(x) is equal to 1. If we equate this to 0, we get 9x + 3 = 0 => 9x = -3 => x = -3/9 = -1/3.\n",
        "- As we get to higher order equations such as that of the degree two functions such as g(x) = 9x^2 + 3x + 2, we resort to \"formulas\" such as the quadratic root ( -b +- (sqrt(b^2-4ac)/2a))/2a.\n",
        "- If the equation is cubic such as h(x) = x^3 + 3x^2 + 4x + 64, we can still have a cubic equation. And someone could easily extrapolate out of this pattern by saying that for every degree x function we could have a formula. But it gets increasingly hard to formulate these root finding formulas.\n",
        "- At this point we are left to estimating the roots to these functions. This is what we will be discusing in this assignment."
      ],
      "metadata": {
        "id": "DXXSIoMFLW-M"
      }
    },
    {
      "cell_type": "code",
      "execution_count": 1,
      "metadata": {
        "colab": {
          "base_uri": "https://localhost:8080/"
        },
        "id": "xu_pXmjNKmuT",
        "outputId": "ac2ed272-cf31-44a7-84de-235032a9eb0d"
      },
      "outputs": [
        {
          "output_type": "stream",
          "name": "stdout",
          "text": [
            "(-0.3819660112501051, -2.618033988749895)\n",
            "1.1102230246251565e-16 0.0\n"
          ]
        }
      ],
      "source": [
        "import math\n",
        "\n",
        "# f(x) = 1x^2 + 3*x + 1\n",
        "\n",
        "a = 1\n",
        "b = 3\n",
        "c = 1\n",
        "\n",
        "roots  = (\n",
        "    (-b + math.sqrt(b**2-4*a*c))/2*a,\n",
        "    (-b - math.sqrt(b**2-4*a*c))/2*a\n",
        ")\n",
        "\n",
        "x1 = roots[0]\n",
        "x2 = roots[1]\n",
        "\n",
        "y1 = x1**2 + 3*x1 + 1\n",
        "y2 = x2**2 + 3*x2 + 1\n",
        "\n",
        "print(roots)\n",
        "print(y1, y2)"
      ]
    },
    {
      "cell_type": "markdown",
      "source": [
        "- above are the evaluations of the functions\n",
        "at the roots that we found out with the quadratic formula. These\n",
        "evaluations are close to zero, notice that are either equal to 0 or are floating point numbers with large negative powers. The only reason we get the latter is because of errors pertaining to the errors in representing floating point numbers.\n",
        "- In the case with larger powers, as mentioned earlier, it can be hard to find analytic zeroes to the function. Hence, we rely on approximations.\n",
        "\n",
        "## Tolerances\n",
        "- In order for these approximations to be acceptable, we have the concept of tolerances. A tolerance is essentially the maximum error that we could accept for an approximation to be \"up to standard\".\n",
        "- This approximation, in a certain case can be equal to |f(x)|, as shown below."
      ],
      "metadata": {
        "id": "1wBbzB2QUM9u"
      }
    },
    {
      "cell_type": "code",
      "source": [
        "# f(x) = x^2 -2, x = the sqrt(2), we set a tolerance of 0.001\n",
        "\n",
        "a = 1\n",
        "b = 0\n",
        "c = -2\n",
        "\n",
        "tolerance = 0.00001\n",
        "\n",
        "def genRange(beg, end, inc):\n",
        "\n",
        "  array = []\n",
        "  current = 0\n",
        "\n",
        "  while (current < end + 1):\n",
        "    current += inc\n",
        "    array.append(current)\n",
        "\n",
        "  return array\n",
        "\n",
        "for x in genRange(1,2,0.00001):\n",
        "  evaluation = a*x**2 + b*x + c\n",
        "\n",
        "  if (abs(evaluation) < tolerance):\n",
        "    print(f\"{evaluation} at x = {x}\")\n",
        "    break"
      ],
      "metadata": {
        "id": "3z8YDCiMZc2u"
      },
      "execution_count": 14,
      "outputs": []
    },
    {
      "cell_type": "markdown",
      "source": [
        "- As we see above, the smaller we make our tolerance, the closer the value we get to the actual root of the equation. But then again, this is the first value we get that hits the tolerance mark. If we were able to append all of these values to the list and get the actual minima of all the values the for loop parses through, we would be able to get a value closer than the one we got earlier as such:"
      ],
      "metadata": {
        "id": "Jt0fyV4PfoZR"
      }
    },
    {
      "cell_type": "code",
      "source": [
        "xes = []\n",
        "yes = []\n",
        "aes = []\n",
        "\n",
        "\n",
        "for x in genRange(1,2,0.00001):\n",
        "  evaluation = a*x**2 + b*x + c\n",
        "\n",
        "  if (abs(evaluation) < tolerance):\n",
        "    xes.append(x)\n",
        "    yes.append(evaluation)\n",
        "    aes.append(abs(evaluation))\n",
        "\n",
        "# print(str(xes) + \"\\n\" + str(yes) + \"\\n \" + str(aes))\n",
        "print(f\"minimum is {yes[yes.index(min(yes))]} at x = {xes[yes.index(min(yes))]}\")\n"
      ],
      "metadata": {
        "colab": {
          "base_uri": "https://localhost:8080/"
        },
        "id": "FmUi1BTogGrk",
        "outputId": "74dc6d4e-5abd-4cfe-de65-bc023954f183"
      },
      "execution_count": 11,
      "outputs": [
        {
          "output_type": "stream",
          "name": "stdout",
          "text": [
            "minimum is -9.492759774532011e-05 at x = 1.4141800000007971\n"
          ]
        }
      ]
    },
    {
      "cell_type": "markdown",
      "source": [
        "## The Bisection Method\n",
        "- The bisection method has it's basis in the techniques that corellate to the intermediate value theorem. For instance, if a function f(x) had its f(a) > 0 and its f(b) < 0 then by the intermediate value theorem it would have atleast one of its roots on the interval (a,b). If m, the midpoint in the interval (a,b) is equal to a, where a > 0, then one of the roots is guaranteed to be at (m, b) and the other way around if the conditions apply. It's similar to binary search in the sense that the search space halves if the midpoint is not the root of the function.\n",
        "\n"
      ],
      "metadata": {
        "id": "9MPo8DFXu90W"
      }
    }
  ]
}
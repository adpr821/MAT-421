{
  "nbformat": 4,
  "nbformat_minor": 0,
  "metadata": {
    "colab": {
      "provenance": [],
      "authorship_tag": "ABX9TyMCVW0M1AWlHldZt0TYvQ/2",
      "include_colab_link": true
    },
    "kernelspec": {
      "name": "python3",
      "display_name": "Python 3"
    },
    "language_info": {
      "name": "python"
    }
  },
  "cells": [
    {
      "cell_type": "markdown",
      "metadata": {
        "id": "view-in-github",
        "colab_type": "text"
      },
      "source": [
        "<a href=\"https://colab.research.google.com/github/adpr821/MAT-421/blob/main/assignment3.ipynb\" target=\"_parent\"><img src=\"https://colab.research.google.com/assets/colab-badge.svg\" alt=\"Open In Colab\"/></a>"
      ]
    },
    {
      "cell_type": "markdown",
      "source": [
        "# MAT 421 | Assignment 3 | 17.4, 17.5\n",
        "- By: Prashil Adhara\n",
        "- Instructor: Haiyan Wang\n",
        "- Spring 2024, Session C\n"
      ],
      "metadata": {
        "id": "umG228azwkFp"
      }
    },
    {
      "cell_type": "markdown",
      "source": [
        "In this assignment, we cover two more interpolation techniques, namely the Lagrange Polynomial and Newton's Polynomial Interpolations. While the core motivation for the implementation of the interpolation techniques are the same as the Linear and Cubic Spline interpolation techniques mentioned earlier, the methods employed are very different. As done earlier, we will also go over the pros and cons of each interpolation technique being discussed, their characteristics and appropriate circumstances to implement their usage."
      ],
      "metadata": {
        "id": "IUzUgJ8Vw4T-"
      }
    },
    {
      "cell_type": "markdown",
      "source": [
        "## Lagrange Polynomial Interpolation\n",
        "- In Lagrange Polynomial Interpolation, the final equation expressed is a single polynomial which goes through all the datapoints of the dataset.\n",
        "- This final polynomial is expressed as L(x) where there is a defined y<sub>i</sub> for each x<sub>i</sub> belonging to the dataset. Further, the L(x) polynomial is a linear summated combination of <i>i</i> n<sup>th</sup> degree polynomials.\n",
        "- Each P<sub>i</sub>(x) is defined as the product of (x-x<sub>i</sub>)/(x<sub>i</sub>-x<sub>j</sub>) from j = 1 to n for each j!=i.\n",
        "- As mentioned earlier, L(x) is just a summation of y<sub>i</sub>P<sub>i</sub>(x) from i = 1 to n where n is the number of datapoints."
      ],
      "metadata": {
        "id": "bAcRwXfZzxEY"
      }
    },
    {
      "cell_type": "markdown",
      "source": [
        "### Example\n",
        "Lets try finding the lagrange basis polynomials for (1, 3), (2, 4) and (3, 5).\n",
        "\n",
        "P<sub>i</sub>(x) = (x-<sub>2</sub>)(x-x<sub>3</sub>)/(x<sub>1</sub>-x<sub>2</sub>)(x<sub>1</sub>-x<sub>3</sub>) = (x-2)(x-3)/(1-2)(1-3) =\n",
        "- ( x<sup>2</sup> - 5x + 6) / 2\n",
        "\n",
        "Since there's three pairs of coordinates, we find the next two equations in a similar process. These two equations are:\n",
        "- ( x<sup>2</sup> - 4x + 3) / 2\n",
        "- ( x<sup>2</sup> - 3x + 2) / 2\n"
      ],
      "metadata": {
        "id": "e3Igpuw44XAM"
      }
    },
    {
      "cell_type": "code",
      "source": [
        "import numpy as np\n",
        "import matplotlib.pyplot as plt\n",
        "import numpy.polynomial.polynomial as pol\n",
        "\n",
        "x = [1,2,3]\n",
        "y = [2,4,7]\n",
        "\n",
        "p1coeff = [0.5,-2.5,3]\n",
        "p2coeff = [-1,4,-3]\n",
        "p3coeff = [0.5,-1.5,1]\n",
        "\n",
        "p1 = pol.Polynomial(p1coeff)\n",
        "p2 = pol.Polynomial(p2coeff)\n",
        "p3 = pol.Polynomial(p3coeff)\n",
        "\n",
        "xRange = np.arange(0,4,0.1)\n",
        "fig = plt.figure(figsize = (10,8))\n",
        "\n",
        "plt.plot(xRange,p1(xRange),'r',label='p1')\n",
        "plt.plot(xRange,p2(xRange),'g',label='p2')\n",
        "plt.plot(xRange,p3(xRange),'b',label='p3')\n",
        "\n",
        "L = p1 + 2*p2 + 3*p3\n",
        "\n",
        "# plt.plot(x, np.ones(len(x)), 'o', np.zeros(len(x)), 'o')\n",
        "plt.plot(xRange, L(xRange), 'y', x, y, 'ro')\n",
        "\n",
        "plt.grid()\n",
        "plt.show"
      ],
      "metadata": {
        "id": "VSa3nJknw4CL"
      },
      "execution_count": null,
      "outputs": []
    },
    {
      "cell_type": "markdown",
      "source": [
        "The above polynomials generated are perhaps wrong, or perhaps the way in which the code is implemented. The function lagrange belonging to scipy works."
      ],
      "metadata": {
        "id": "LMf4woDyAScG"
      }
    }
  ]
}
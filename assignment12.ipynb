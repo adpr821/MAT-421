{
  "nbformat": 4,
  "nbformat_minor": 0,
  "metadata": {
    "colab": {
      "provenance": [],
      "authorship_tag": "ABX9TyPYWMOICQccilMPwcCWBrOi",
      "include_colab_link": true
    },
    "kernelspec": {
      "name": "python3",
      "display_name": "Python 3"
    },
    "language_info": {
      "name": "python"
    }
  },
  "cells": [
    {
      "cell_type": "markdown",
      "metadata": {
        "id": "view-in-github",
        "colab_type": "text"
      },
      "source": [
        "<a href=\"https://colab.research.google.com/github/adpr821/MAT-421/blob/main/assignment12.ipynb\" target=\"_parent\"><img src=\"https://colab.research.google.com/assets/colab-badge.svg\" alt=\"Open In Colab\"/></a>"
      ]
    },
    {
      "cell_type": "markdown",
      "source": [
        "# MAT 421 | Assignment 12 | 2.2, 2.3, 2.4\n",
        "- By: Prashil Adhara\n",
        "- Instructor: Haiyan Wang\n",
        "- Spring 2024, Session C\n",
        "\n",
        "In this assignment we will be looking at basic probability and distribution principles."
      ],
      "metadata": {
        "id": "bt9aH-U3JKLX"
      }
    },
    {
      "cell_type": "markdown",
      "source": [
        "## Unions and Intersections\n",
        "- Given two sets A and B, a union of them both represented as $(A \\cup B)$ would be the set which contains the values which exist in either A or B, without the repetition caused by their intersection $(A \\cap B)$ which is the subset which contains elements contained by both A and B.\n",
        "- With this we can derive equations for the compositions of these sets. For example, the intersection of A and B would be:\n",
        "- $(A \\cap B) = (A \\cup B) - A - B$ where A and B are the sets which contain elements from only A and B respectively.\n",
        "- Now, consider that A and B are mutually exclusive, so $(A \\cap B)$ = $ϕ$. If we were to look at the probability of choosing from either A or B, it would be P($A ∪ B$) = 1. So the probability of choosing from B would be P(B) = P($A ∪ B$) - P(A).\n",
        "- With above and also accounting for P($A ∪ B$) != 1, we get P($A ∪ B$) = P(A) + P(B) - P($A ∩ B$) = 1.\n",
        "\n",
        "## Conditional Probability\n",
        "- Taking the instance from above where we have two non mutually exclusive sets A and B where ($A \\cup B$) is the union and ($A \\cap B$) is the intersection, what if we wish to find out probabilities of A such that B is a given.\n",
        "- If we were to say that P(A | B) is the probability of A given B, then P(A | B) = P$(A \\cap B)$ / P(B). Ofcourse if A and B were disjoint then P(A|B) = P(A).\n",
        "\n",
        "## Central Limit Theorem\n",
        "- With some assumptions, the Central Limit Theorem says that even if an initial sampling from a distribution has a distribution that isn't normalized, as we increase the number of samples, it will result in a normal distribution with the characteristics of the whole distribution itself.\n",
        "\n",
        "## Binomial Distributions\n",
        "- A binomial distribution is one in which we can say that the outcomes are restricted to two values.\n",
        "- If we wanted to predict the probability of a certain outcome over a certain number of trials, we could use the following formula:\n",
        "- P(x,n,p) = (nCx) . (probability of success = p)$^x$ . (probability of failure)$^{n-x}$\n",
        "- where x is the number of sucesses, and n is the number of trials.\n",
        "- For example, what is the probability of choosing a red ball thrice over seven trials given the probability of choosing a red ball is 0.3.\n",
        "- P(3,7,0.3) = (7C3) * 0.3$^3$ * (1-0.3)$^4$ = 35 * 0.3$^3$ * 0.7$^4$"
      ],
      "metadata": {
        "id": "1tL88_9ZKl-k"
      }
    }
  ]
}
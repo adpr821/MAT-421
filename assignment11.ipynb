{
  "nbformat": 4,
  "nbformat_minor": 0,
  "metadata": {
    "colab": {
      "provenance": [],
      "authorship_tag": "ABX9TyPTVOVx2Ns7TlNbTcrhKbOp",
      "include_colab_link": true
    },
    "kernelspec": {
      "name": "python3",
      "display_name": "Python 3"
    },
    "language_info": {
      "name": "python"
    }
  },
  "cells": [
    {
      "cell_type": "markdown",
      "metadata": {
        "id": "view-in-github",
        "colab_type": "text"
      },
      "source": [
        "<a href=\"https://colab.research.google.com/github/adpr821/MAT-421/blob/main/assignment11.ipynb\" target=\"_parent\"><img src=\"https://colab.research.google.com/assets/colab-badge.svg\" alt=\"Open In Colab\"/></a>"
      ]
    },
    {
      "cell_type": "markdown",
      "source": [
        "# MAT 421 | Assignment 11 | 22.4, 22.5, 22.6\n",
        "- By: Prashil Adhara\n",
        "- Instructor: Haiyan Wang\n",
        "- Spring 2024, Session C\n",
        "\n",
        "\n",
        "In this assignment we will be looking at the topics Numerical Error and Instability and Predictor - Corrector and Range Kutta Methods."
      ],
      "metadata": {
        "id": "_m88GnJRXInK"
      }
    },
    {
      "cell_type": "markdown",
      "source": [
        "- Since we use the initial state value $S(t_j)$ where j=1 to compute the estimation of $S(t_{j+1})$, any errors produced in the preceding step where we computer $S(t_x) = S_{x-1} + hF(t_{x-1},s_{x-1})$ would have a tendenty to magnify as t increases.\n",
        "\n",
        "- This tendency of the error to grow or vary in magnitude over fixed or varied intervals is called instability. In other words, the stability of an integration scheme is correlates with the lack or absence in growth of error as t increases.\n",
        "\n",
        "- The accuracy of a scheme is it's ability to get a solution close to exact.\n",
        "- For the explicit formula, having the width of the intervals be as small as possible can help dampen deviation to significant amounts.\n",
        "- In the implicit formula, while having th width of intervals be as small as possible will help dampen deviation, if the function is oscillatory, the estimation might converge.\n",
        "- For the trapezoid scheme, which is the average of the explicit and implicit schemes, we observe the least error. While in oscillatory functions, the phases of the sub-intervals may shift, in regular, non-repeating functions, only a shift is noticed and this is the scheme with the greatest stability.\n",
        "- The predictor - corrector method uses a primary function to estimate the point and then a more generalized function to correct the estimate and reduce the error. This is repeated throughout the range of values throughout the interval of the function for which we are supposed to calculate and this results in lesser error, higher accuracy and increased stability."
      ],
      "metadata": {
        "id": "JqC6bSPem5m5"
      }
    }
  ]
}
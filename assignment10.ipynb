{
  "nbformat": 4,
  "nbformat_minor": 0,
  "metadata": {
    "colab": {
      "provenance": [],
      "authorship_tag": "ABX9TyPoP6rxXza++HJrKB38PvjQ",
      "include_colab_link": true
    },
    "kernelspec": {
      "name": "python3",
      "display_name": "Python 3"
    },
    "language_info": {
      "name": "python"
    }
  },
  "cells": [
    {
      "cell_type": "markdown",
      "metadata": {
        "id": "view-in-github",
        "colab_type": "text"
      },
      "source": [
        "<a href=\"https://colab.research.google.com/github/adpr821/MAT-421/blob/main/assignment10.ipynb\" target=\"_parent\"><img src=\"https://colab.research.google.com/assets/colab-badge.svg\" alt=\"Open In Colab\"/></a>"
      ]
    },
    {
      "cell_type": "markdown",
      "source": [
        "# MAT 421 | Assignment 10 | 22.1, 22.2, 22.3\n",
        "- By: Prashil Adhara\n",
        "- Instructor: Haiyan Wang\n",
        "- Spring 2024, Session C\n",
        "\n",
        "\n",
        "In this assignment we will be looking over the concepts of differential equations, an ordinary differential equation, the initial value problem, reduction of order and the euler method."
      ],
      "metadata": {
        "id": "ImleQUqCNSI8"
      }
    },
    {
      "cell_type": "markdown",
      "source": [
        "## Differential Equations\n",
        "- Differential equations is the relationship between a function and it's derivatives. These equations are common in most STEM fields. For example, if a car was on the highway accelerating at a certain rate, then it would be the change in velocity over time. As such, the equation relating it's acceleration over time, and any other lesser order derivatives with position (x) would be a differential equation.\n",
        "\n",
        "## The Euler Method\n",
        "- Numerical methods to solve differential equations are extremely essential since it can be hard to algebraically reduce the order of higher order differential equations.\n",
        "\n",
        "- One method to solve such higher order differential equations is the Euler method.\n",
        "\n",
        "- This method works by utilizing the initial value to find the values of the following terms.\n",
        "\n"
      ],
      "metadata": {
        "id": "7XOzUjoR8zHE"
      }
    },
    {
      "cell_type": "code",
      "execution_count": null,
      "metadata": {
        "id": "j_DQ5S51Mf-B"
      },
      "outputs": [],
      "source": [
        "import numpy as np\n",
        "import matplotlib.pyplot as plt\n",
        "\n",
        "pos = 3x^2 + 2x + 1\n",
        "vel = 6x + 2\n",
        "acc = 6\n",
        "\n",
        "a = 0\n",
        "b = 10\n",
        "\n",
        "x = np.linspace(a, b, 0.001)"
      ]
    }
  ]
}
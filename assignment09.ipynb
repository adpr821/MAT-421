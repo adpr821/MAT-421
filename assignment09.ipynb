{
  "nbformat": 4,
  "nbformat_minor": 0,
  "metadata": {
    "colab": {
      "provenance": [],
      "authorship_tag": "ABX9TyMIYvuD+r8szLYKZVMcLHc2",
      "include_colab_link": true
    },
    "kernelspec": {
      "name": "python3",
      "display_name": "Python 3"
    },
    "language_info": {
      "name": "python"
    }
  },
  "cells": [
    {
      "cell_type": "markdown",
      "metadata": {
        "id": "view-in-github",
        "colab_type": "text"
      },
      "source": [
        "<a href=\"https://colab.research.google.com/github/adpr821/MAT-421/blob/main/assignment09.ipynb\" target=\"_parent\"><img src=\"https://colab.research.google.com/assets/colab-badge.svg\" alt=\"Open In Colab\"/></a>"
      ]
    },
    {
      "cell_type": "markdown",
      "source": [
        "# MAT 421 | Assignment 3 | 21.4, 21.5\n",
        "- By: Prashil Adhara\n",
        "- Instructor: Haiyan Wang\n",
        "- Spring 2024, Session C\n",
        "\n",
        "In this assignment we will be looking over what the Simpson's rule is, what sub-techniques it applies in its implementation and what real-world scenarios it can be used for appropriately."
      ],
      "metadata": {
        "id": "VJpnC90D5Qtu"
      }
    },
    {
      "cell_type": "markdown",
      "source": [
        "## Problem Statement\n",
        "\n",
        "- One of the methods that we can use to find numerical integrals of functions computationally is the Riemann Integral, where we find the area by sub-rectangles of equal width and varying height depending on the value of the function. However, the shortcomings of this technique lies in the error that the function produces in cases where the behavior of the function is erratic. The error can be reduced to almost zero for the most part as we increase the number of adjacent rectangles that make up the area of the interval, between the axis and the graph.\n",
        "\n",
        "- Another method that we can use to find numerical integrals of functions computationally would be the Trapezoid rule. The inherent idea of the technique is quite similar to that of the Riemann Integral. However, instead of the tops of the partitions being flat, as that of a rectangle, we have trapezoids instead that attempt to fit the slope of the graph instead. This allows us to minimize error. Also, at this point we don't have to worry if we use the point beyond or before the interval to determine the height of the rectangle sub-partitions as we did earlier.\n",
        "\n",
        "- There still lies the issue of functions that oscillate with high frequencies in certain sub-intervals. The problem that occurs when either of the two methods mentioned above are used is that a lot of the area gets cut off or areas not in the graph get included. To reduce this effect, we will take a look at Simpson's rule.\n",
        "\n",
        "\n",
        "## Simpsons Rule\n",
        "- Since in the previous methods, the rectangles and trapezoids had straight edges, it was easier for errors to form. With simpsons rule, we wrap the graph with a curve instead between three points, throughout the distribution of points we create to lap over the interval for which we need the numeral integral.\n",
        "\n",
        "- The technique we use to create the curves is the Lagrange Polynomial. It essentially interpolates through three points with a polynomial.\n",
        "\n",
        "- The above allows the integral area to be very close to the graph itself, hence reducing error.\n",
        "\n",
        "## Expression\n",
        "- `integral(f(x) from x(i-1) to x(i+1)) = (h/3)*(f(x_(i-1)+4*f(x_i)+f(x_(i+1))) + O(h^5)`"
      ],
      "metadata": {
        "id": "6GpIMryG-_dv"
      }
    }
  ]
}
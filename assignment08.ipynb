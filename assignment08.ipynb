{
  "nbformat": 4,
  "nbformat_minor": 0,
  "metadata": {
    "colab": {
      "provenance": [],
      "authorship_tag": "ABX9TyNJIQSnbJZPX7e4U7DwH5tD",
      "include_colab_link": true
    },
    "kernelspec": {
      "name": "python3",
      "display_name": "Python 3"
    },
    "language_info": {
      "name": "python"
    }
  },
  "cells": [
    {
      "cell_type": "markdown",
      "metadata": {
        "id": "view-in-github",
        "colab_type": "text"
      },
      "source": [
        "<a href=\"https://colab.research.google.com/github/adpr821/MAT-421/blob/main/assignment08.ipynb\" target=\"_parent\"><img src=\"https://colab.research.google.com/assets/colab-badge.svg\" alt=\"Open In Colab\"/></a>"
      ]
    },
    {
      "cell_type": "markdown",
      "source": [
        "# MAT 421 | Assignment 8 | 21.1, 21.2, 21.3\n",
        "- By: Prashil Adhara\n",
        "- Instructor: Haiyan Wang\n",
        "- Spring 2024, Session C\n",
        "\n",
        "\n",
        "In this assignment we will be going over the numerical methods in regard to finding the integral of a curve in a closed interval.\n",
        "\n",
        "An integral is essentially the area that lies under the graph. In 2d-space, such as the cartesian space, the area is bounded by the x-axis, the closed intervals and lastly the graph itself. In order to find this interval we will be discussing two distinct methods. In both the methods, we divide up the area into vertical rectangles / trapezoids, the only differing part in the two methods is the way in which the height or rather the way in which we identify the top of these shapes.\n",
        "\n",
        "## Riemanns Integral\n",
        "We will firstly look at Riemanns integral that we mentioned in the above sectionas this is usually the most elementary method taught in undergrad courses to find an integral.\n",
        "\n",
        "As we can imagine, if there was a certain graph and it were to be split vertically, then in order to fit the graph itself, each vertical rectangle would have to have a varying height. Now, what point do we use to set the height, the left, right or the average of the two; the midpoint? They all could be used in different circumstances. For example, if we had y=x, then using the midpoint as the height-setting variable would work best since the error would be 0. On the other hand, using the right integral would produce an area larger than actual and left lesser.\n",
        "\n",
        "Of-course, as the graph's shape gets more convuluted; such considerations get increasingly difficult to undertake.\n",
        "\n",
        "The formula for a Riemann's integral would be as such: `sum(for i=0 to n-1, height*f(x_i))`, that is for the left endpoint. For the right endpoint we simply make it so it traverses from i=1 till n instead.\n",
        "\n",
        "Below, we look at an example of the Riemann Sum implemented in Python.\n",
        "\n",
        "## Trapezoid Rule\n",
        "The trapezoid rule is quite similar to the Riemanns sum, atleast in the sense that we still divide the area up. But now we divide it into trapezoids instead. In order to understand how this method works intuitively, we will go over how the individual trapezoids are constructed first. As a given, all trapezoids that make up the area have equal width. And as the trapezoid spans from one interval-point to another, the top of it does as well. The top of the trapezoid is the slope through the leading edges, or interval-points of the interval that the trapezoid resides in. This helps us get rid of the considerations we had to make in the earlier section in regards to the left, mid or right point.\n",
        "\n",
        "The trapezoid rule would have a lesser error, however, since the linear line does not fit the graph for the most part, if the graph varies quickly then the error maximizes.\n",
        "\n",
        "To find the area of each trapezoid we simply take two rectangles with the base equal to the width of the interval. The height of both the rectangles are that equal to the value of the function at the leading edge interval points. We sum these areas and divide it by two, this essentially gives us the area of the trapezoid. Now we repeat this for every interval and sum it.\n",
        "\n",
        "`SUM(for i=0 to n-1, height*(f(x_i)+f(x_(i+1)))/2`"
      ],
      "metadata": {
        "id": "vLfT9E9OHK3V"
      }
    },
    {
      "cell_type": "markdown",
      "source": [
        "## Examples"
      ],
      "metadata": {
        "id": "aFimiRxTSoSR"
      }
    },
    {
      "cell_type": "code",
      "source": [
        "import numpy as np\n",
        "\n",
        "# start and end intervals\n",
        "a = 0\n",
        "b = 10\n",
        "\n",
        "# number of intervals\n",
        "n = 10\n",
        "\n",
        "# width of interval\n",
        "w = (b - a) / (n - 1)\n",
        "\n",
        "# generating the set of interval-points\n",
        "x = np.linspace(a, b, n)\n",
        "\n",
        "# function\n",
        "f = x\n",
        "\n",
        "# integral\n",
        "r = w * sum(f[:n-1])\n",
        "print(r)\n"
      ],
      "metadata": {
        "colab": {
          "base_uri": "https://localhost:8080/"
        },
        "id": "5HKEjxM7QW17",
        "outputId": "4f6597fc-ed50-45db-835f-5c3882484a07"
      },
      "execution_count": 12,
      "outputs": [
        {
          "output_type": "stream",
          "name": "stdout",
          "text": [
            "44.44444444444444\n"
          ]
        }
      ]
    }
  ]
}